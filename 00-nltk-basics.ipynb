{
 "cells": [
  {
   "cell_type": "code",
   "execution_count": 10,
   "metadata": {},
   "outputs": [
    {
     "name": "stderr",
     "output_type": "stream",
     "text": [
      "[nltk_data] Downloading package punkt to /home/sos00/nltk_data...\n",
      "[nltk_data]   Unzipping tokenizers/punkt.zip.\n"
     ]
    },
    {
     "data": {
      "text/plain": [
       "True"
      ]
     },
     "execution_count": 10,
     "metadata": {},
     "output_type": "execute_result"
    }
   ],
   "source": [
    "import nltk\n",
    "nltk.download('punkt') # model used for tokenizing"
   ]
  },
  {
   "cell_type": "code",
   "execution_count": 12,
   "metadata": {},
   "outputs": [
    {
     "name": "stdout",
     "output_type": "stream",
     "text": [
      "['Hey Diddle diddle.', 'The cat and the fiddle.', 'The cow jumped over the moon.']\n",
      "['Hey', 'Diddle', 'diddle', '.', 'The', 'cat', 'and', 'the', 'fiddle', '.', 'The', 'cow', 'jumped', 'over', 'the', 'moon', '.']\n"
     ]
    }
   ],
   "source": [
    "# tokenize by sentences or words\n",
    "from nltk.tokenize import word_tokenize, sent_tokenize\n",
    "text = \"Hey Diddle diddle. The cat and the fiddle. The cow jumped over the moon.\"\n",
    "sents = sent_tokenize(text)\n",
    "words = word_tokenize(text)\n",
    "print(sents)\n",
    "print(words)"
   ]
  },
  {
   "cell_type": "code",
   "execution_count": 27,
   "metadata": {},
   "outputs": [
    {
     "name": "stdout",
     "output_type": "stream",
     "text": [
      "211\n",
      "['|', 'has', 'how', 'here', 'our', \"she's\", 'with', 'haven', 'what', 'weren', 'few', \"wouldn't\", 'yours', '/', '-', '!', 'there', 'a', 'can', 'because']\n",
      "['Hey', 'Diddle', 'diddle', 'The', 'cat', 'fiddle', 'The', 'cow', 'jumped', 'moon']\n"
     ]
    },
    {
     "name": "stderr",
     "output_type": "stream",
     "text": [
      "[nltk_data] Downloading package stopwords to /home/sos00/nltk_data...\n",
      "[nltk_data]   Package stopwords is already up-to-date!\n"
     ]
    }
   ],
   "source": [
    "# remove stop words and punctuation marks to remove\n",
    "from nltk.corpus import stopwords\n",
    "from string import punctuation\n",
    "nltk.download('stopwords')\n",
    "custom_stopwords = set(stopwords.words('english') + list(punctuation))\n",
    "print(len(custom_stopwords))\n",
    "print(list(custom_stopwords)[:20])\n",
    "def remove_stopwords(tokens):\n",
    "    return [t for t in tokens if t not in custom_stopwords]\n",
    "\n",
    "words = remove_stopwords(words)\n",
    "print(words)"
   ]
  },
  {
   "cell_type": "code",
   "execution_count": 29,
   "metadata": {},
   "outputs": [
    {
     "data": {
      "text/plain": [
       "[(('Diddle', 'diddle'), 1),\n",
       " (('Hey', 'Diddle'), 1),\n",
       " (('The', 'cat'), 1),\n",
       " (('The', 'cow'), 1),\n",
       " (('cat', 'fiddle'), 1),\n",
       " (('cow', 'jumped'), 1),\n",
       " (('diddle', 'The'), 1),\n",
       " (('fiddle', 'The'), 1),\n",
       " (('jumped', 'moon'), 1)]"
      ]
     },
     "execution_count": 29,
     "metadata": {},
     "output_type": "execute_result"
    }
   ],
   "source": [
    "# identity bigrams\n",
    "from nltk.collocations import BigramAssocMeasures, BigramCollocationFinder\n",
    "bigram_measures = BigramAssocMeasures()\n",
    "finder = BigramCollocationFinder.from_words(words)\n",
    "sorted(finder.ngram_fd.items())"
   ]
  },
  {
   "cell_type": "code",
   "execution_count": 34,
   "metadata": {},
   "outputs": [
    {
     "name": "stdout",
     "output_type": "stream",
     "text": [
      "['i', 'feel', 'pick', 'on', 'when', 'i', \"'m\", 'pick', 'all', 'these', 'pick', 'up', '.']\n"
     ]
    }
   ],
   "source": [
    "# stemming\n",
    "ps = nltk.stem.PorterStemmer()\n",
    "text2 = \"I feel picked on when I'm picking all these picks up.\"\n",
    "words = word_tokenize(text2)\n",
    "stemmed_words = [ps.stem(word) for word in words]\n",
    "print(stemmed_words)"
   ]
  }
 ],
 "metadata": {
  "kernelspec": {
   "display_name": "nlp-env",
   "language": "python",
   "name": "python3"
  },
  "language_info": {
   "codemirror_mode": {
    "name": "ipython",
    "version": 3
   },
   "file_extension": ".py",
   "mimetype": "text/x-python",
   "name": "python",
   "nbconvert_exporter": "python",
   "pygments_lexer": "ipython3",
   "version": "3.11.4"
  },
  "orig_nbformat": 4
 },
 "nbformat": 4,
 "nbformat_minor": 2
}
